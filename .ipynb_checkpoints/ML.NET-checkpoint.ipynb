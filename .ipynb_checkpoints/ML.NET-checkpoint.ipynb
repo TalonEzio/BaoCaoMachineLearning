{
 "cells": [
  {
   "cell_type": "code",
   "execution_count": 22,
   "id": "ae977eb25429a85f",
   "metadata": {
    "dotnet_interactive": {
     "language": "csharp"
    },
    "polyglot_notebook": {
     "kernelName": "csharp"
    },
    "vscode": {
     "languageId": "polyglot-notebook"
    }
   },
   "outputs": [
    {
     "data": {
      "text/html": [
       "<div><div></div><div></div><div><strong>Installed Packages</strong><ul><li><span>CsvHelper, 32.0.3</span></li><li><span>Microsoft.Data.Analysis, 0.21.1</span></li><li><span>Microsoft.ML, 3.0.1</span></li><li><span>Microsoft.ML.Recommender, 0.21.1</span></li><li><span>SandDance.InteractiveExtension, 1.0.138</span></li></ul></div></div>"
      ]
     },
     "metadata": {},
     "output_type": "display_data"
    }
   ],
   "source": [
    "#r \"nuget:Microsoft.ML\"\n",
    "#r \"nuget:Microsoft.ML.Recommender\"\n",
    "#r \"nuget:Microsoft.Data.Analysis\"\n",
    "#r \"nuget:SandDance.InteractiveExtension\"\n",
    "#r \"nuget:CsvHelper\""
   ]
  },
  {
   "cell_type": "code",
   "execution_count": 23,
   "id": "8ab0eeff",
   "metadata": {
    "dotnet_interactive": {
     "language": "csharp"
    },
    "polyglot_notebook": {
     "kernelName": "csharp"
    },
    "vscode": {
     "languageId": "polyglot-notebook"
    }
   },
   "outputs": [],
   "source": [
    "using System.Text.Json.Serialization;\n",
    "using Microsoft.ML;\n",
    "using Microsoft.ML.Data;\n",
    "using Microsoft.ML.Trainers;\n",
    "using System;\n",
    "using System.IO;\n",
    "using System.Globalization;\n",
    "using Microsoft.Data.Analysis;\n",
    "using SandDance.InteractiveExtension;\n",
    "using Microsoft.DotNet.Interactive.Formatting.TabularData;\n",
    "using CsvHelper;"
   ]
  },
  {
   "cell_type": "code",
   "execution_count": 24,
   "id": "6f1c617c-209e-4efb-865b-24361c2d35c0",
   "metadata": {},
   "outputs": [
    {
     "name": "stderr",
     "output_type": "stream",
     "text": [
      "\n",
      "(1,37): warning CS8632: The annotation for nullable reference types should only be used in code within a '#nullable' annotations context.\n",
      "\n",
      "(1,9): warning CS8632: The annotation for nullable reference types should only be used in code within a '#nullable' annotations context.\n",
      "\n",
      "(3,6): warning CS8632: The annotation for nullable reference types should only be used in code within a '#nullable' annotations context.\n",
      "\n",
      "(11,50): warning CS8632: The annotation for nullable reference types should only be used in code within a '#nullable' annotations context.\n",
      "\n",
      "(17,51): warning CS8632: The annotation for nullable reference types should only be used in code within a '#nullable' annotations context.\n",
      "\n",
      "(28,19): warning CS8632: The annotation for nullable reference types should only be used in code within a '#nullable' annotations context.\n",
      "\n"
     ]
    }
   ],
   "source": [
    "static T? GetValue<T>(ValueGetter<T>? valueGetter)\n",
    "{\n",
    "    T? value = default;\n",
    "    if (valueGetter is not null) valueGetter(ref value!);\n",
    "    return value;\n",
    "}\n",
    "\n",
    "static TabularDataResource ToTabularDataResource(this IDataView source)\n",
    "{\n",
    "    var fields = source.Schema.ToDictionary(column => column.Name, column => column.Type.RawType);\n",
    "    var data = new List<Dictionary<string, object?>>();\n",
    "\n",
    "    var cursor = source.GetRowCursor(source.Schema);\n",
    "\n",
    "    while (cursor.MoveNext())\n",
    "    {\n",
    "        var rowObj = new Dictionary<string, object?>();\n",
    "\n",
    "        foreach (var column in source.Schema)\n",
    "        {\n",
    "            var type = column.Type.RawType;\n",
    "            var getGetterMethod = cursor.GetType()\n",
    "                .GetMethod(nameof(cursor.GetGetter))\n",
    "                ?.MakeGenericMethod(type);\n",
    "\n",
    "            var valueGetter = getGetterMethod?.Invoke(cursor, new object[] { column });\n",
    "\n",
    "            object? value = GetValue((dynamic)valueGetter!);\n",
    "\n",
    "            if (value is ReadOnlyMemory<char>)\n",
    "            {\n",
    "                value = value.ToString();\n",
    "            }\n",
    "\n",
    "            rowObj.Add(column.Name, value);\n",
    "        }\n",
    "\n",
    "        data.Add(rowObj);\n",
    "    }\n",
    "\n",
    "    var schema = new TableSchema();\n",
    "\n",
    "    foreach (var (fieldName, fieldValue) in fields)\n",
    "    {\n",
    "        schema.Fields.Add(new TableSchemaFieldDescriptor(fieldName, fieldValue.ToTableSchemaFieldType()));\n",
    "    }\n",
    "\n",
    "    return new TabularDataResource(schema, data);\n",
    "}"
   ]
  },
  {
   "cell_type": "code",
   "execution_count": 25,
   "id": "e38d667d-fcea-47ea-95e6-14cd21e4e37f",
   "metadata": {},
   "outputs": [],
   "source": [
    "async Task<string> WriteCsv<T>(string fileName,List<T> ratings)\n",
    "{\n",
    "    var outputDir = Path.Combine(Directory.GetCurrentDirectory(),\"Data\",\"Result\");\n",
    "\n",
    "    if(!Directory.Exists(outputDir))\n",
    "    {\n",
    "        Directory.CreateDirectory(outputDir);\n",
    "    }\n",
    "\n",
    "    var outputPath = Path.Combine(outputDir,fileName);\n",
    "\n",
    "    var stream = new FileStream(outputPath,FileMode.Create);\n",
    "\n",
    "    var writerStream = new StreamWriter(stream,Encoding.Unicode);\n",
    "\n",
    "    var csvWriter = new CsvWriter(writerStream,CultureInfo.CurrentCulture);\n",
    "\n",
    "    csvWriter.WriteHeader<T>();\n",
    "    await csvWriter.NextRecordAsync();\n",
    "    await csvWriter.WriteRecordsAsync(ratings);\n",
    "    await csvWriter.FlushAsync();\n",
    "\n",
    "    Console.WriteLine(\"Ghi file thành công\");\n",
    "    writerStream.Close();\n",
    "    return outputPath;\n",
    "}"
   ]
  },
  {
   "cell_type": "code",
   "execution_count": 26,
   "id": "55f87a05",
   "metadata": {
    "dotnet_interactive": {
     "language": "csharp"
    },
    "polyglot_notebook": {
     "kernelName": "csharp"
    },
    "vscode": {
     "languageId": "polyglot-notebook"
    }
   },
   "outputs": [],
   "source": [
    "public class AmazonRating\n",
    "{\n",
    "    [LoadColumn(0)]public string UserId { get; set; }\n",
    "\n",
    "    [LoadColumn(1)]public string Asin { get; set; }\n",
    "\n",
    "    [LoadColumn(2)]public string ParentAsin { get; set; }\n",
    "\n",
    "    [LoadColumn(3)]public string Title { get; set; }\n",
    "\n",
    "    [LoadColumn(4)]public string Text { get; set; }\n",
    "    \n",
    "    [LoadColumn(5)]public float Rating { get; set; }\n",
    "\n",
    "    [LoadColumn(6)]public long Timestamp { get; set; }\n",
    "\n",
    "    [LoadColumn(7)]public int HelpfulVote { get; set; }\n",
    "\n",
    "    [LoadColumn(8)]public bool VerifiedPurchase { get; set; }\n",
    "}"
   ]
  },
  {
   "cell_type": "code",
   "execution_count": 27,
   "id": "3c1ae26e",
   "metadata": {
    "dotnet_interactive": {
     "language": "csharp"
    },
    "polyglot_notebook": {
     "kernelName": "csharp"
    },
    "vscode": {
     "languageId": "polyglot-notebook"
    }
   },
   "outputs": [
    {
     "name": "stdout",
     "output_type": "stream",
     "text": [
      "Số dòng trong dữ liệu đầu vào: 2500939\n"
     ]
    }
   ],
   "source": [
    "var mlContext = new MLContext();\n",
    "var fileName = \"Amazon_Fashion.csv\" ;\n",
    "var path = Path.Combine(Directory.GetCurrentDirectory(),\"Data\",fileName);\n",
    "\n",
    "var rawData = mlContext.Data.LoadFromTextFile<AmazonRating>(\n",
    "    path:path, \n",
    "    hasHeader : true,\n",
    "    separatorChar:',',\n",
    "    allowQuoting:true,\n",
    "    allowSparse:true\n",
    "    );\n",
    "var rawDataEnumerable = mlContext.Data.CreateEnumerable<AmazonRating>(rawData,false);\n",
    "Console.WriteLine($\"Số dòng trong dữ liệu đầu vào: {rawDataEnumerable.LongCount()}\");"
   ]
  },
  {
   "cell_type": "code",
   "execution_count": null,
   "id": "93240f1e",
   "metadata": {
    "ExecuteTime": {
     "end_time": "2024-05-17T03:41:04.519057Z",
     "start_time": "2024-05-17T03:41:04.513509Z"
    },
    "dotnet_interactive": {
     "language": "csharp"
    },
    "polyglot_notebook": {
     "kernelName": "csharp"
    },
    "vscode": {
     "languageId": "polyglot-notebook"
    }
   },
   "outputs": [],
   "source": [
    "var helpfulVoteGreater = 1;\n",
    "var userRatingHelpfulVoteGreater = 10;\n",
    "\n",
    "var filterFunc = (AmazonRating rating) => \n",
    "        rating.HelpfulVote >= userRatingHelpfulVoteGreater;\n",
    "\n",
    "var filteredAsins = from rating in rawDataEnumerable\n",
    "                    where rating.HelpfulVote >= helpfulVoteGreater\n",
    "                    group rating by rating.Asin into g\n",
    "                    where g.Count() >= userRatingHelpfulVoteGreater\n",
    "                    select g.Key;\n",
    "\n",
    "var latestRankedList = \n",
    "    from rating in rawDataEnumerable\n",
    "    join asin in filteredAsins on rating.Asin equals asin\n",
    "    where rating.HelpfulVote >= helpfulVoteGreater\n",
    "    orderby rating.Timestamp descending\n",
    "    group rating by new { rating.UserId, rating.Asin } into g\n",
    "    let rowNumber = g.Select((r, i) => new { r, i }).FirstOrDefault(x => x.r.Timestamp == g.Max(r => r.Timestamp)).i + 1\n",
    "    where rowNumber == 1\n",
    "    select g.FirstOrDefault();\n",
    "\n",
    "var filteredData = mlContext.Data.LoadFromEnumerable<AmazonRating>(latestRankedList);\n",
    "\n",
    "Console.WriteLine($\"Số bản ghi còn lại sau khi loại bỏ: {latestRankedList.LongCount()}\");"
   ]
  },
  {
   "cell_type": "code",
   "execution_count": null,
   "id": "2169d994",
   "metadata": {
    "dotnet_interactive": {
     "language": "csharp"
    },
    "polyglot_notebook": {
     "kernelName": "csharp"
    },
    "vscode": {
     "languageId": "polyglot-notebook"
    }
   },
   "outputs": [],
   "source": [
    "class AmazonRatingInput\n",
    "{\n",
    "    public string UserId { get; set; }\n",
    "\n",
    "    public string Asin { get; set; }\n",
    "\n",
    "    public float Rating { get; set; }\n",
    "}"
   ]
  },
  {
   "cell_type": "code",
   "execution_count": null,
   "id": "44addba4",
   "metadata": {
    "dotnet_interactive": {
     "language": "csharp"
    },
    "polyglot_notebook": {
     "kernelName": "csharp"
    },
    "vscode": {
     "languageId": "polyglot-notebook"
    }
   },
   "outputs": [],
   "source": [
    "var inputEnumerable = latestRankedList.Select(\n",
    "    rating => new AmazonRatingInput()\n",
    "    {\n",
    "        UserId = rating.UserId,\n",
    "        Asin = rating.Asin,\n",
    "        Rating = rating.Rating\n",
    "    });\n",
    "\n",
    "var inputData = mlContext.Data.LoadFromEnumerable<AmazonRatingInput>(inputEnumerable);"
   ]
  },
  {
   "cell_type": "code",
   "execution_count": null,
   "id": "f63583d4",
   "metadata": {
    "dotnet_interactive": {
     "language": "csharp"
    },
    "polyglot_notebook": {
     "kernelName": "csharp"
    },
    "vscode": {
     "languageId": "polyglot-notebook"
    }
   },
   "outputs": [],
   "source": [
    "var shuffledData = mlContext.Data.ShuffleRows(inputData);\n",
    "var split = mlContext.Data.TrainTestSplit(shuffledData,testFraction:0.1);\n",
    "\n",
    "var trainData = split.TrainSet;\n",
    "var testData = split.TestSet;\n",
    "\n",
    "Console.WriteLine($\"Số bản ghi train: {mlContext.Data.CreateEnumerable<AmazonRatingInput>(trainData,false).LongCount()}\");\n",
    "Console.WriteLine($\"Số bản ghi test: {mlContext.Data.CreateEnumerable<AmazonRatingInput>(testData,false).LongCount()}\")"
   ]
  },
  {
   "cell_type": "code",
   "execution_count": null,
   "id": "d2083d3c",
   "metadata": {
    "dotnet_interactive": {
     "language": "csharp"
    },
    "polyglot_notebook": {
     "kernelName": "csharp"
    },
    "vscode": {
     "languageId": "polyglot-notebook"
    }
   },
   "outputs": [],
   "source": [
    "var pipeline =\n",
    "    mlContext.Transforms.Conversion\n",
    "    .MapValueToKey(\n",
    "        outputColumnName: nameof(AmazonRatingInput.UserId), \n",
    "        inputColumnName: nameof(AmazonRatingInput.UserId)   \n",
    "        )\n",
    "    .Append(\n",
    "        mlContext.Transforms.Conversion\n",
    "            .MapValueToKey(\n",
    "                outputColumnName:  nameof(AmazonRatingInput.Asin), \n",
    "                inputColumnName: nameof(AmazonRatingInput.Asin)\n",
    "            )\n",
    "        );\n",
    "\n",
    "var options = new MatrixFactorizationTrainer.Options\n",
    "{\n",
    "    MatrixColumnIndexColumnName = nameof(AmazonRatingInput.UserId),\n",
    "    MatrixRowIndexColumnName = nameof(AmazonRatingInput.Asin),\n",
    "    LabelColumnName = nameof(AmazonRatingInput.Rating),\n",
    "    NumberOfIterations = 20,\n",
    "    ApproximationRank = 100,\n",
    "};\n",
    "\n",
    "var trainerEstimator = pipeline.Append(mlContext.Recommendation().Trainers.MatrixFactorization(options));\n",
    "\n",
    "ITransformer model = trainerEstimator.Fit(trainData);"
   ]
  },
  {
   "cell_type": "code",
   "execution_count": null,
   "id": "7f2c7a67",
   "metadata": {
    "dotnet_interactive": {
     "language": "csharp"
    },
    "polyglot_notebook": {
     "kernelName": "csharp"
    },
    "vscode": {
     "languageId": "polyglot-notebook"
    }
   },
   "outputs": [],
   "source": [
    "Console.WriteLine(\"Kết quả sau khi chạy: \");\n",
    "var prediction = model.Transform(testData);\n",
    "\n",
    "var metrics = mlContext.Regression.Evaluate(prediction, labelColumnName: \"Rating\");\n",
    "\n",
    "Console.WriteLine(\"Root Mean Squared Error : \" + metrics.RootMeanSquaredError.ToString());\n",
    "Console.WriteLine(\"RSquared: \" + metrics.RSquared.ToString());"
   ]
  },
  {
   "cell_type": "code",
   "execution_count": null,
   "id": "62f3a09c",
   "metadata": {
    "dotnet_interactive": {
     "language": "csharp"
    },
    "polyglot_notebook": {
     "kernelName": "csharp"
    },
    "vscode": {
     "languageId": "polyglot-notebook"
    }
   },
   "outputs": [],
   "source": [
    "class AmazonRatingPrediction{\n",
    "    public float Rating { get; set; }\n",
    "    public float Score{ get; set; }\n",
    "}\n",
    "void UseModelForSinglePrediction(MLContext mlContext, ITransformer model,AmazonRating inputRating)\n",
    "{\n",
    "    var predictionEngine = mlContext.Model.CreatePredictionEngine<AmazonRating, AmazonRatingPrediction>(model);\n",
    "\n",
    "    var resultRatingPrediction = predictionEngine.Predict(inputRating);\n",
    "\n",
    "    display(resultRatingPrediction);\n",
    "    \n",
    "    if (Math.Round(resultRatingPrediction.Score, 1) >= 3)\n",
    "    {\n",
    "        Console.WriteLine(\"Sản phẩm  \" + inputRating.Asin + \" nên gợi ý cho \" + inputRating.UserId);\n",
    "    }\n",
    "    else\n",
    "    {\n",
    "        Console.WriteLine(\"Sản phẩm \" + inputRating.Asin + \" không nên gợi ý cho \" + inputRating.UserId);\n",
    "    }\n",
    "}"
   ]
  },
  {
   "cell_type": "code",
   "execution_count": null,
   "id": "a6b3a387",
   "metadata": {
    "dotnet_interactive": {
     "language": "csharp"
    },
    "polyglot_notebook": {
     "kernelName": "csharp"
    },
    "vscode": {
     "languageId": "polyglot-notebook"
    }
   },
   "outputs": [],
   "source": [
    "var random = new Random();\n",
    "\n",
    "var filteredDataEnumerable = mlContext.Data.CreateEnumerable<AmazonRatingInput>(filteredData,false);\n",
    "\n",
    "var filteredDataCount = filteredDataEnumerable.Count();\n",
    "\n",
    "var randomAsin = filteredDataEnumerable.Skip(random.Next(filteredDataCount - 1)).Take(1).First().Asin;\n",
    "var randomUserId = filteredDataEnumerable.Skip(random.Next(filteredDataCount - 1)).Take(1).First().UserId;\n",
    "var input = new AmazonRating()\n",
    "{\n",
    "    Asin = randomAsin,\n",
    "    UserId = randomUserId\n",
    "};\n",
    "UseModelForSinglePrediction(mlContext,model,input);"
   ]
  },
  {
   "cell_type": "code",
   "execution_count": 21,
   "id": "dcdc4c066451c3f",
   "metadata": {
    "dotnet_interactive": {
     "language": "csharp"
    },
    "polyglot_notebook": {
     "kernelName": "csharp"
    },
    "vscode": {
     "languageId": "polyglot-notebook"
    }
   },
   "outputs": [
    {
     "name": "stdout",
     "output_type": "stream",
     "text": [
      "Ghi file thành công\n"
     ]
    }
   ],
   "source": [
    "if(filteredDataCount <= 50000)\n",
    "{\n",
    "    var trainEnumerable = mlContext.Data.CreateEnumerable<AmazonRatingInput>(trainData,false).ToList();\n",
    "    var trainCsvPath = await WriteCsv<AmazonRating>(\"train.csv\",latestRankedList.ToList());\n",
    "\n",
    "    var df = DataFrame.LoadCsv(trainCsvPath);\n",
    "    df.ToTabularDataResource().ExploreWithSandDance().Display();\n",
    "}\n",
    "else{\n",
    "    Console.WriteLine(\"Dữ liệu quá lớn, không thể vẽ biểu đồ\");\n",
    "}"
   ]
  }
 ],
 "metadata": {
  "kernelspec": {
   "display_name": ".NET (C#)",
   "language": "C#",
   "name": ".net-csharp"
  },
  "language_info": {
   "file_extension": ".cs",
   "mimetype": "text/x-csharp",
   "name": "C#",
   "pygments_lexer": "csharp",
   "version": "12.0"
  },
  "polyglot_notebook": {
   "kernelInfo": {
    "defaultKernelName": "csharp",
    "items": [
     {
      "aliases": [],
      "name": "csharp"
     }
    ]
   }
  }
 },
 "nbformat": 4,
 "nbformat_minor": 5
}
